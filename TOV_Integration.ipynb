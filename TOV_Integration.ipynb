{
 "cells": [
  {
   "cell_type": "markdown",
   "id": "61a1e400-9097-4bbd-b7e6-d4e050e3f3cf",
   "metadata": {},
   "source": [
    "# Integrating the TOV equations to give initial conditions for Rotating Neutron Stars"
   ]
  },
  {
   "cell_type": "markdown",
   "id": "f404af82-7fdc-4fc5-9dc1-0f11756bdc2e",
   "metadata": {},
   "source": [
    "Unless stated otherwise, equations are given in geometrized units where $G=c=1$."
   ]
  },
  {
   "cell_type": "markdown",
   "id": "35552d54-416d-45a2-9cc6-fc0ee6c99b62",
   "metadata": {},
   "source": [
    "## The TOV equations in Schwarzschild coordinates"
   ]
  },
  {
   "cell_type": "markdown",
   "id": "8b2c01be-e13b-460a-ad77-88175a58535b",
   "metadata": {},
   "source": [
    "Start with a general spherically symmetric metric in Schwarzschild radial coordinates:\n",
    "\\begin{align}\n",
    "\t\\rm{d}s^2 &= -e^{2\\Phi(\\tilde{r})}{\\rm d}t^2 + \\frac1{1-\\frac{2m(\\tilde{r})}{\\tilde{r}}}{\\rm d}\\tilde{r}^2+\\tilde{r}^2{\\rm d}^2\\Omega\\qquad\\text{for}\\quad 0\\le \\tilde{r}\\le \\tilde{R}, \\\\\n",
    "\t\t&= -\\left(1-\\frac{2M}{\\tilde{r}}\\right){\\rm d}t^2 + \\frac1{\\left(1-\\frac{2M}{\\tilde{r}}\\right)}{\\rm d}\\tilde{r}^2+\\tilde{r}^2{\\rm d}^2\\Omega\\qquad\\text{for}\\quad \\tilde{R}\\le \\tilde{r},\n",
    "\\end{align}\n",
    "where $M$ is the mass of the Neutron Star and $\\tilde{R}$ is the Schwarzschild coordinate radius of the Neutron Star.  We also use the notation that ${\\rm d}^2\\Omega= {\\rm d}\\theta^2 + \\sin^2\\theta{\\rm d}\\phi^2$ is the metric on the unit 2-sphere.  Einstein's equations, and the equation for hydrostatic equilibrium of a perfect fluid, yield the Tolman-Oppenheimer-Volkoff (TOV) equations for the interior structure of a spherical star:\n",
    "\\begin{align}\n",
    "\t\\frac{{\\rm d} m(\\tilde{r})}{{\\rm d}\\tilde{r}} &= 4\\pi \\tilde{r}^2\\epsilon(\\tilde{r}) &&\\text{with}\\qquad m(\\tilde{r}=0)=0,\\\\\n",
    "\t\\frac{{\\rm d} P(\\tilde{r})}{{\\rm d}\\tilde{r}} &= -\\frac{[\\epsilon(\\tilde{r})+P(\\tilde{r})][m(\\tilde{r})+4\\pi \\tilde{r}^3P(\\tilde{r})]}{\\tilde{r}[\\tilde{r}-2m(\\tilde{r})]} &&\\text{with}\\qquad\\left\\{\\begin{array}{l}P(\\tilde{r}=0)=P_c,\\\\\n",
    "\tP(\\tilde{r}=\\tilde{R})=0,\\end{array}\\right.\\\\\n",
    "\t\\frac{{\\rm d} \\Phi(\\tilde{r})}{{\\rm d}\\tilde{r}} &= \\frac{m(\\tilde{r})+4\\pi \\tilde{r}^3P(\\tilde{r})}{\\tilde{r}[\\tilde{r}-2m(\\tilde{r})]} &&\\text{with}\\qquad \\Phi(\\tilde{r}=\\tilde{R})=\\textstyle\\frac12\\ln\\left(1-\\frac{2M}{\\tilde{R}}\\right).\n",
    "\\end{align}\n",
    "Here, $P(\\tilde{r})$ and $\\epsilon(\\tilde{r})$ are the pressure and total energy density of the Neutron-Star matter.  We have assumed that the matter is a *Perfect Fluid* with a stress-energy tensor given by\n",
    "\\begin{align}\n",
    "    T^{\\mu\\nu} = (\\epsilon +P)u^\\mu u^\\nu + P g^{\\mu\\nu},\n",
    "\\end{align}\n",
    "where $u^\\mu$ is the matter 4-velocity, and $g^{\\mu\\nu}$ is the inverse metric of the space-time."
   ]
  },
  {
   "cell_type": "markdown",
   "id": "45e6f196-cec8-4109-8a78-4a288163d28e",
   "metadata": {},
   "source": [
    "## Implementation using OrdinaryDiffEq (*part of DifferentialEquations.jl*)"
   ]
  },
  {
   "cell_type": "markdown",
   "id": "f6cbbb18-596c-424d-a193-f617a604f801",
   "metadata": {
    "jp-MarkdownHeadingCollapsed": true
   },
   "source": [
    "### Tests"
   ]
  },
  {
   "cell_type": "code",
   "execution_count": null,
   "id": "b46feea4-e248-46e5-bc3b-c02b6b62d89f",
   "metadata": {},
   "outputs": [],
   "source": [
    "include(\"./RotNS.jl\")\n",
    "using .RotNS, Plots"
   ]
  },
  {
   "cell_type": "code",
   "execution_count": null,
   "id": "92d39e7d-182b-41a5-a4b4-19670fbd4e81",
   "metadata": {},
   "outputs": [],
   "source": [
    "eos = PolytropicEOS(1.0)\n",
    "sol=TOVSchwarzschild(eos,0.2736,1.0)\n",
    "println(\"R = \",sol.SurfaceRadius,\" : M = \",sol.TotalMass,\" : P(R) = \",sol.SurfacePressure)"
   ]
  },
  {
   "cell_type": "code",
   "execution_count": null,
   "id": "e7ef2278-0dc7-421c-85dd-e2c66f4a6c69",
   "metadata": {},
   "outputs": [],
   "source": [
    "plot(sol.Solution,idxs=[(0,1)],label=(\"Mass\"),xlabel=\"r\",ylabel=\"M\")"
   ]
  },
  {
   "cell_type": "code",
   "execution_count": null,
   "id": "8ab3ee48-ddc2-4bf0-b114-7f271d2ad24b",
   "metadata": {},
   "outputs": [],
   "source": [
    "plot(sol.Solution,idxs=[(0,2)],label=(\"Pressure\"),xlabel=\"r\",ylabel=\"P\",yaxis=:log)"
   ]
  },
  {
   "cell_type": "code",
   "execution_count": null,
   "id": "dbda7786-2de2-424c-9593-c681696fc837",
   "metadata": {},
   "outputs": [],
   "source": [
    "ΔΦ = 1/2*log(1-2*sol.TotalMass/sol.SurfaceRadius)-sol.Solution[3,end] # need to compute \"global\" correction\n",
    "correctΦ(r,Φ) = (r, Φ+ΔΦ) # function to transform Φ\n",
    "plot(sol.Solution,idxs=(correctΦ,0,3),label=(\"Potential\"),xlabel=\"r\",ylabel=\"Φ\")"
   ]
  },
  {
   "cell_type": "markdown",
   "id": "cb6a0275-e21d-4514-9f16-6040597b2ae2",
   "metadata": {
    "jp-MarkdownHeadingCollapsed": true
   },
   "source": [
    "### Polytropes"
   ]
  },
  {
   "cell_type": "code",
   "execution_count": null,
   "id": "55ace6e0-1a3c-42cc-bc75-b523d10dd5f0",
   "metadata": {},
   "outputs": [],
   "source": [
    "QSurface=1.0e-10;"
   ]
  },
  {
   "cell_type": "code",
   "execution_count": null,
   "id": "39c4519d-b535-41c7-8de6-92e90368b6a2",
   "metadata": {},
   "outputs": [],
   "source": [
    "SurfacePressure = QSurface^(3/2)\n",
    "eos = PolytropicEOS(1/2)\n",
    "edrange = exp10.(range(-2.0,log10(5),length=200))\n",
    "sols0 = map((ced)->TOVSchwarzschild(eos,ced,0.8,SurfacePressure=SurfacePressure),edrange);"
   ]
  },
  {
   "cell_type": "code",
   "execution_count": null,
   "id": "9533ef76-8636-4622-bc6b-6c3cc74fb6ee",
   "metadata": {},
   "outputs": [],
   "source": [
    "SurfacePressure = QSurface^(2)\n",
    "eos = PolytropicEOS(1)\n",
    "edrange = exp10.(range(-4.0,log10(1),length=200))\n",
    "sols1 = map((ced)->TOVSchwarzschild(eos,ced,1.3,SurfacePressure=SurfacePressure),edrange);"
   ]
  },
  {
   "cell_type": "code",
   "execution_count": null,
   "id": "82bfd9d2-c2d4-4cd1-b839-2a8d152b5f63",
   "metadata": {},
   "outputs": [],
   "source": [
    "SurfacePressure = QSurface^(5/2)\n",
    "eos = PolytropicEOS(1.5)\n",
    "edrange = exp10.(range(-6.0,log10(0.2),length=200))\n",
    "sols2 = map((ced)->TOVSchwarzschild(eos,ced,18,SurfacePressure=SurfacePressure),edrange);"
   ]
  },
  {
   "cell_type": "code",
   "execution_count": null,
   "id": "6d0a0e00-6c49-42cb-9c03-765ed8f15cf6",
   "metadata": {},
   "outputs": [],
   "source": [
    "SurfacePressure = QSurface^(3)\n",
    "eos = PolytropicEOS(2)\n",
    "edrange = exp10.(range(-10.0,log10(0.02),length=200))\n",
    "sols3 = map((ced)->TOVSchwarzschild(eos,ced,800,SurfacePressure=SurfacePressure),edrange);"
   ]
  },
  {
   "cell_type": "code",
   "execution_count": null,
   "id": "4527513b-81c9-4727-9803-812ebabe0f84",
   "metadata": {},
   "outputs": [],
   "source": [
    "SurfacePressure = QSurface^(13/4)\n",
    "eos = PolytropicEOS(9/4)\n",
    "edrange = exp10.(range(-15.0,log10(0.005),length=200))\n",
    "sols4 = map((ced)->TOVSchwarzschild(eos,ced,4.e+4,SurfacePressure=SurfacePressure),edrange);"
   ]
  },
  {
   "cell_type": "code",
   "execution_count": null,
   "id": "6d42fce2-5f4c-49ca-8742-8b37b83eb9d2",
   "metadata": {},
   "outputs": [],
   "source": [
    "SurfacePressure = QSurface^(7/2)\n",
    "eos = PolytropicEOS(5/2)\n",
    "edrange = exp10.(range(-18,log10(0.0005),length=200))\n",
    "sols5 = map((ced)->TOVSchwarzschild(eos,ced,9.0e+5,SurfacePressure=SurfacePressure),edrange);"
   ]
  },
  {
   "cell_type": "code",
   "execution_count": null,
   "id": "cc831d6a-53d6-4693-8122-8d53efe78ccd",
   "metadata": {},
   "outputs": [],
   "source": [
    "plot(getfield.(sols0,:CentralDensity),getfield.(sols0,:TotalMass),xaxis=:log,label=\"n=1/2\")\n",
    "plot!(getfield.(sols1,:CentralDensity),getfield.(sols1,:TotalMass),xaxis=:log,label=\"n=1\")\n",
    "plot!(getfield.(sols2,:CentralDensity),getfield.(sols2,:TotalMass),xaxis=:log,label=\"n=3/2\")\n",
    "plot!(getfield.(sols3,:CentralDensity),getfield.(sols3,:TotalMass),xaxis=:log,label=\"n=2\")\n",
    "plot!(getfield.(sols4,:CentralDensity),getfield.(sols4,:TotalMass),xaxis=:log,label=\"n=9/4\")\n",
    "plot!(getfield.(sols5,:CentralDensity),getfield.(sols5,:TotalMass),xaxis=:log,label=\"n=5/2\",legend=:topleft);xlabel!(\"ϵ₀\");ylabel!(\"M\")"
   ]
  },
  {
   "cell_type": "code",
   "execution_count": null,
   "id": "7d192ce2-2606-4369-a8c3-04643227e49f",
   "metadata": {},
   "outputs": [],
   "source": [
    "plot(getfield.(sols0,:CentralDensity),getfield.(sols0,:SurfaceRadius),xaxis=:log,yaxis=:log,label=\"n=1/2\")\n",
    "plot!(getfield.(sols1,:CentralDensity),getfield.(sols1,:SurfaceRadius),xaxis=:log,yaxis=:log,label=\"n=1\")\n",
    "plot!(getfield.(sols2,:CentralDensity),getfield.(sols2,:SurfaceRadius),xaxis=:log,yaxis=:log,label=\"n=3/2\")\n",
    "plot!(getfield.(sols3,:CentralDensity),getfield.(sols3,:SurfaceRadius),xaxis=:log,yaxis=:log,label=\"n=2\")\n",
    "plot!(getfield.(sols4,:CentralDensity),getfield.(sols4,:SurfaceRadius),xaxis=:log,yaxis=:log,label=\"n=9/4\")\n",
    "plot!(getfield.(sols5,:CentralDensity),getfield.(sols5,:SurfaceRadius),xaxis=:log,yaxis=:log,label=\"n=5/2\",legend=:topright);xlabel!(\"ϵ₀\");ylabel!(\"R\")"
   ]
  },
  {
   "cell_type": "code",
   "execution_count": null,
   "id": "6c56d17a-4f12-4b52-9d9b-dccab2d63cc8",
   "metadata": {},
   "outputs": [],
   "source": [
    "default(size = (647, 400))\n",
    "plot(getfield.(sols0,:SurfaceRadius),getfield.(sols0,:TotalMass),xaxis=:log,label=\"n=1/2\")\n",
    "plot!(getfield.(sols1,:SurfaceRadius),getfield.(sols1,:TotalMass),xaxis=:log,label=\"n=1\")\n",
    "plot!(getfield.(sols2,:SurfaceRadius),getfield.(sols2,:TotalMass),xaxis=:log,label=\"n=3/2\")\n",
    "plot!(getfield.(sols3,:SurfaceRadius),getfield.(sols3,:TotalMass),xaxis=:log,label=\"n=2\")\n",
    "plot!(getfield.(sols4,:SurfaceRadius),getfield.(sols4,:TotalMass),xaxis=:log,label=\"n=9/4\")\n",
    "plot!(getfield.(sols5,:SurfaceRadius),getfield.(sols5,:TotalMass),xaxis=:log,label=\"n=5/2\",legend=:topleft);xlabel!(\"R\");ylabel!(\"M\")"
   ]
  },
  {
   "cell_type": "markdown",
   "id": "8b9de096-4ba5-47c4-9777-a0e6eb183dcb",
   "metadata": {
    "jp-MarkdownHeadingCollapsed": true
   },
   "source": [
    "### Realistic EOS"
   ]
  },
  {
   "cell_type": "code",
   "execution_count": null,
   "id": "85083231-3544-43d8-9450-37cdb53db3a9",
   "metadata": {},
   "outputs": [],
   "source": [
    "SurfacePressure = 1.01e+10/(Epsilon0*Cspeed^2)"
   ]
  },
  {
   "cell_type": "code",
   "execution_count": null,
   "id": "abfbc632-c7e2-438c-8052-39ed757fb0f9",
   "metadata": {},
   "outputs": [],
   "source": [
    "eos = RealisticEOS(\"./Tabulated_EOS.h5\",\"A\")\n",
    "edrange = exp10.(range(-0.6,log10(7),length=200))\n",
    "sols0 = map((ced)->TOVSchwarzschild(eos,ced,2,SurfacePressure=SurfacePressure),edrange);"
   ]
  },
  {
   "cell_type": "code",
   "execution_count": null,
   "id": "477c0062-d990-40f9-b2a8-ae78b2c0a21c",
   "metadata": {},
   "outputs": [],
   "source": [
    "eos = RealisticEOS(\"./Tabulated_EOS.h5\",\"B\")\n",
    "edrange = exp10.(range(-0.6,log10(9),length=200))\n",
    "sols1 = map((ced)->TOVSchwarzschild(eos,ced,2,SurfacePressure=SurfacePressure),edrange);"
   ]
  },
  {
   "cell_type": "code",
   "execution_count": null,
   "id": "0cb8e0ce-9b0e-4943-b948-95995f6bb20b",
   "metadata": {},
   "outputs": [],
   "source": [
    "eos = RealisticEOS(\"./Tabulated_EOS.h5\",\"C\")\n",
    "edrange = exp10.(range(-0.84,log10(6),length=200))\n",
    "sols2 = map((ced)->TOVSchwarzschild(eos,ced,2,SurfacePressure=SurfacePressure),edrange);"
   ]
  },
  {
   "cell_type": "code",
   "execution_count": null,
   "id": "99f5bbc4-bbac-4d21-ac78-704b144ad0dd",
   "metadata": {},
   "outputs": [],
   "source": [
    "eos = RealisticEOS(\"./Tabulated_EOS.h5\",\"D\")\n",
    "edrange = exp10.(range(-0.73,log10(6),length=200))\n",
    "sols3 = map((ced)->TOVSchwarzschild(eos,ced,2,SurfacePressure=SurfacePressure),edrange);"
   ]
  },
  {
   "cell_type": "code",
   "execution_count": null,
   "id": "2463eddb-9210-4dab-bb64-98f2566f0e32",
   "metadata": {},
   "outputs": [],
   "source": [
    "eos = RealisticEOS(\"./Tabulated_EOS.h5\",\"E\")\n",
    "edrange = exp10.(range(-0.62,log10(6),length=200))\n",
    "sols4 = map((ced)->TOVSchwarzschild(eos,ced,2,SurfacePressure=SurfacePressure),edrange);"
   ]
  },
  {
   "cell_type": "code",
   "execution_count": null,
   "id": "d25fc3ca-6c44-4a66-b955-c2ca4a868854",
   "metadata": {},
   "outputs": [],
   "source": [
    "eos = RealisticEOS(\"./Tabulated_EOS.h5\",\"F\")\n",
    "edrange = exp10.(range(-0.69,log10(10),length=200))\n",
    "sols5 = map((ced)->TOVSchwarzschild(eos,ced,2,SurfacePressure=SurfacePressure),edrange);"
   ]
  },
  {
   "cell_type": "code",
   "execution_count": null,
   "id": "250618de-28ba-45ac-84d6-336508472c30",
   "metadata": {},
   "outputs": [],
   "source": [
    "eos = RealisticEOS(\"./Tabulated_EOS.h5\",\"G\")\n",
    "edrange = exp10.(range(-0.61,log10(12),length=200))\n",
    "sols6 = map((ced)->TOVSchwarzschild(eos,ced,2,SurfacePressure=SurfacePressure),edrange);"
   ]
  },
  {
   "cell_type": "code",
   "execution_count": null,
   "id": "6f808bfb-3b86-4ed4-9965-1b092cfbf31a",
   "metadata": {},
   "outputs": [],
   "source": [
    "eos = RealisticEOS(\"./Tabulated_EOS.h5\",\"L\")\n",
    "edrange = exp10.(range(-0.82,log10(3),length=200))\n",
    "sols7 = map((ced)->TOVSchwarzschild(eos,ced,2,SurfacePressure=SurfacePressure),edrange);"
   ]
  },
  {
   "cell_type": "code",
   "execution_count": null,
   "id": "26b03ed0-8d1c-40a1-9afe-27a403784f2a",
   "metadata": {},
   "outputs": [],
   "source": [
    "eos = RealisticEOS(\"./Tabulated_EOS.h5\",\"M\")\n",
    "edrange = exp10.(range(-1.1,log10(3),length=200))\n",
    "sols8 = map((ced)->TOVSchwarzschild(eos,ced,2,SurfacePressure=SurfacePressure),edrange);"
   ]
  },
  {
   "cell_type": "code",
   "execution_count": null,
   "id": "834bb96f-3f3d-4529-a331-7e62c62cc34a",
   "metadata": {},
   "outputs": [],
   "source": [
    "eos = RealisticEOS(\"./Tabulated_EOS.h5\",\"N\")\n",
    "edrange = exp10.(range(-0.72,log10(3),length=200))\n",
    "sols9 = map((ced)->TOVSchwarzschild(eos,ced,2,SurfacePressure=SurfacePressure),edrange);"
   ]
  },
  {
   "cell_type": "code",
   "execution_count": null,
   "id": "d0448dce-c271-4c11-864d-524a1257c003",
   "metadata": {},
   "outputs": [],
   "source": [
    "eos = RealisticEOS(\"./Tabulated_EOS.h5\",\"AU\")\n",
    "edrange = exp10.(range(-0.55,log10(5),length=200))\n",
    "sols10 = map((ced)->TOVSchwarzschild(eos,ced,2,SurfacePressure=SurfacePressure),edrange);"
   ]
  },
  {
   "cell_type": "code",
   "execution_count": null,
   "id": "31aaca96-1f53-40ba-906f-97805ed8e1ec",
   "metadata": {},
   "outputs": [],
   "source": [
    "eos = RealisticEOS(\"./Tabulated_EOS.h5\",\"UU\")\n",
    "edrange = exp10.(range(-0.615,log10(5),length=200))\n",
    "sols11 = map((ced)->TOVSchwarzschild(eos,ced,2,SurfacePressure=SurfacePressure),edrange);"
   ]
  },
  {
   "cell_type": "code",
   "execution_count": null,
   "id": "939c1313-6735-433c-ab3c-a1c9937b94c3",
   "metadata": {},
   "outputs": [],
   "source": [
    "eos = RealisticEOS(\"./Tabulated_EOS.h5\",\"UT\")\n",
    "edrange = exp10.(range(-0.57,log10(5),length=200))\n",
    "sols12 = map((ced)->TOVSchwarzschild(eos,ced,2,SurfacePressure=SurfacePressure),edrange);"
   ]
  },
  {
   "cell_type": "code",
   "execution_count": null,
   "id": "c63a5eb2-b3df-402f-8bc5-6a42b2d1089d",
   "metadata": {},
   "outputs": [],
   "source": [
    "eos = RealisticEOS(\"./Tabulated_EOS.h5\",\"FPS\")\n",
    "edrange = exp10.(range(-0.592,log10(7),length=200))\n",
    "sols13 = map((ced)->TOVSchwarzschild(eos,ced,2,SurfacePressure=SurfacePressure),edrange);"
   ]
  },
  {
   "cell_type": "code",
   "execution_count": null,
   "id": "631bbc96-b129-4037-8457-b7ef57388588",
   "metadata": {},
   "outputs": [],
   "source": [
    "default(size = (647, 400))\n",
    "plot(getfield.(sols0,:CentralDensity),getfield.(sols0,:TotalMass),xaxis=:log,label=\"A\")\n",
    "plot!(getfield.(sols1,:CentralDensity),getfield.(sols1,:TotalMass),xaxis=:log,label=\"B\")\n",
    "plot!(getfield.(sols2,:CentralDensity),getfield.(sols2,:TotalMass),xaxis=:log,label=\"C\")\n",
    "plot!(getfield.(sols3,:CentralDensity),getfield.(sols3,:TotalMass),xaxis=:log,label=\"D\")\n",
    "plot!(getfield.(sols4,:CentralDensity),getfield.(sols4,:TotalMass),xaxis=:log,label=\"E\")\n",
    "plot!(getfield.(sols5,:CentralDensity),getfield.(sols5,:TotalMass),xaxis=:log,label=\"F\")\n",
    "plot!(getfield.(sols6,:CentralDensity),getfield.(sols6,:TotalMass),xaxis=:log,label=\"G\")\n",
    "plot!(getfield.(sols7,:CentralDensity),getfield.(sols7,:TotalMass),xaxis=:log,label=\"L\") # High Mass\n",
    "plot!(getfield.(sols8,:CentralDensity),getfield.(sols8,:TotalMass),xaxis=:log,label=\"M\")\n",
    "plot!(getfield.(sols9,:CentralDensity),getfield.(sols9,:TotalMass),xaxis=:log,label=\"N\") # High Mass\n",
    "plot!(getfield.(sols10,:CentralDensity),getfield.(sols10,:TotalMass),xaxis=:log,label=\"AU\") # Large Radius at low density\n",
    "plot!(getfield.(sols11,:CentralDensity),getfield.(sols11,:TotalMass),xaxis=:log,label=\"UU\")\n",
    "plot!(getfield.(sols12,:CentralDensity),getfield.(sols12,:TotalMass),xaxis=:log,label=\"UT\")\n",
    "plot!(getfield.(sols13,:CentralDensity),getfield.(sols13,:TotalMass),xaxis=:log,label=\"FPS\",legend=:topleft);xlabel!(\"ϵ₀\");ylabel!(\"M\")"
   ]
  },
  {
   "cell_type": "code",
   "execution_count": null,
   "id": "6ea01e77-251f-4ac5-810d-b4e2be8b2a43",
   "metadata": {},
   "outputs": [],
   "source": [
    "plot(getfield.(sols0,:CentralDensity),getfield.(sols0,:SurfaceRadius),xaxis=:log,label=\"A\")\n",
    "plot!(getfield.(sols1,:CentralDensity),getfield.(sols1,:SurfaceRadius),xaxis=:log,label=\"B\")\n",
    "plot!(getfield.(sols2,:CentralDensity),getfield.(sols2,:SurfaceRadius),xaxis=:log,label=\"C\")\n",
    "plot!(getfield.(sols3,:CentralDensity),getfield.(sols3,:SurfaceRadius),xaxis=:log,label=\"D\")\n",
    "plot!(getfield.(sols4,:CentralDensity),getfield.(sols4,:SurfaceRadius),xaxis=:log,label=\"E\")\n",
    "plot!(getfield.(sols5,:CentralDensity),getfield.(sols5,:SurfaceRadius),xaxis=:log,label=\"F\")\n",
    "plot!(getfield.(sols6,:CentralDensity),getfield.(sols6,:SurfaceRadius),xaxis=:log,label=\"G\")\n",
    "plot!(getfield.(sols7,:CentralDensity),getfield.(sols7,:SurfaceRadius),xaxis=:log,label=\"L\")\n",
    "plot!(getfield.(sols8,:CentralDensity),getfield.(sols8,:SurfaceRadius),xaxis=:log,label=\"M\")\n",
    "plot!(getfield.(sols9,:CentralDensity),getfield.(sols9,:SurfaceRadius),xaxis=:log,label=\"N\")\n",
    "plot!(getfield.(sols10,:CentralDensity),getfield.(sols10,:SurfaceRadius),xaxis=:log,label=\"AU\")\n",
    "plot!(getfield.(sols11,:CentralDensity),getfield.(sols11,:SurfaceRadius),xaxis=:log,label=\"UU\")\n",
    "plot!(getfield.(sols12,:CentralDensity),getfield.(sols12,:SurfaceRadius),xaxis=:log,label=\"UT\")\n",
    "plot!(getfield.(sols13,:CentralDensity),getfield.(sols13,:SurfaceRadius),xaxis=:log,label=\"FPS\",legend=:topright);xlabel!(\"ϵ₀\");ylabel!(\"R\")"
   ]
  },
  {
   "cell_type": "code",
   "execution_count": null,
   "id": "5ce033e9-da25-48bd-acb0-6c1c579ed74b",
   "metadata": {},
   "outputs": [],
   "source": [
    "plot(getfield.(sols0,:SurfaceRadius),getfield.(sols0,:TotalMass),xaxis=:log,label=\"A\")\n",
    "plot!(getfield.(sols1,:SurfaceRadius),getfield.(sols1,:TotalMass),xaxis=:log,label=\"B\")\n",
    "plot!(getfield.(sols2,:SurfaceRadius),getfield.(sols2,:TotalMass),xaxis=:log,label=\"C\")\n",
    "plot!(getfield.(sols3,:SurfaceRadius),getfield.(sols3,:TotalMass),xaxis=:log,label=\"D\")\n",
    "plot!(getfield.(sols4,:SurfaceRadius),getfield.(sols4,:TotalMass),xaxis=:log,label=\"E\")\n",
    "plot!(getfield.(sols5,:SurfaceRadius),getfield.(sols5,:TotalMass),xaxis=:log,label=\"F\")\n",
    "plot!(getfield.(sols6,:SurfaceRadius),getfield.(sols6,:TotalMass),xaxis=:log,label=\"G\")\n",
    "plot!(getfield.(sols7,:SurfaceRadius),getfield.(sols7,:TotalMass),xaxis=:log,label=\"L\")\n",
    "plot!(getfield.(sols8,:SurfaceRadius),getfield.(sols8,:TotalMass),xaxis=:log,label=\"M\")\n",
    "plot!(getfield.(sols9,:SurfaceRadius),getfield.(sols9,:TotalMass),xaxis=:log,label=\"N\")\n",
    "plot!(getfield.(sols10,:SurfaceRadius),getfield.(sols10,:TotalMass),xaxis=:log,label=\"AU\") # Large Radius at low density\n",
    "plot!(getfield.(sols11,:SurfaceRadius),getfield.(sols11,:TotalMass),xaxis=:log,label=\"UU\")\n",
    "plot!(getfield.(sols12,:SurfaceRadius),getfield.(sols12,:TotalMass),xaxis=:log,label=\"UT\")\n",
    "plot!(getfield.(sols13,:SurfaceRadius),getfield.(sols13,:TotalMass),xaxis=:log,label=\"FPS\",legend=:topright);xlabel!(\"R\");ylabel!(\"M\")"
   ]
  },
  {
   "cell_type": "markdown",
   "id": "574312fa-c946-4f6f-941f-d87d25564181",
   "metadata": {},
   "source": [
    "## Stationary Axisymmetric Metric"
   ]
  },
  {
   "cell_type": "markdown",
   "id": "ac3b8551-f5db-4e22-8e9c-28787f6ec366",
   "metadata": {},
   "source": [
    "A general stationary, axisymmetric metric can be written in an isotropic-like radial coordinate as:\n",
    "\\begin{align}\n",
    "    \\rm{d}s^2 &= -e^{\\gamma(r,\\theta)+\\rho(r,\\theta)}{\\rm d}t^2 + e^{2\\alpha(r,\\theta)}({\\rm d}r^2+r^2{\\rm d}\\theta^2)+e^{\\gamma(r,\\theta)-\\rho(r,\\theta)}r^2\\sin^2\\theta({\\rm d}\\phi-\\omega(r,\\theta){\\rm d}t)^2.\n",
    "\\end{align}\n",
    "In the static, spherically symmetric limit, this metric takes the form\n",
    "\\begin{align}\n",
    "    \\rm{d}s^2 &= -e^{2\\beta(r)}{\\rm d}t^2 + e^{2\\alpha(r)}({\\rm d}r^2+r^2{\\rm d}^2\\Omega),\n",
    "\\end{align}\n",
    "where $2\\beta(r) = \\gamma(r)+\\rho(r)$, $2\\alpha(r) = \\gamma(r)-\\rho(r)$, $\\omega(r)=0$, and $r$ is a true isotropic radial coordinate.\n",
    "\n",
    "It is necessary to re-express the metric for the spherically symmetric Neutron Star written in terms of the Schwarzschild radial coordinate $\\tilde{r}$ in terms of the isotropic radial coordinate $r$.  This transformation is defined by the relations:\n",
    "\\begin{align}\n",
    "    r e^{\\alpha(r)} &= \\tilde{r}, \\\\\n",
    "    e^{\\alpha(r)}{\\rm d}r &= \\left(1 - \\frac{2m(\\tilde{r})}{\\tilde{r}}\\right)^{-\\frac12}{\\rm d}\\tilde{r}, \\\\\n",
    "    \\beta(r) &= \\Phi(\\tilde{r}(r)),\n",
    "\\end{align}\n",
    "where $m(\\tilde{r})=M$ for $\\tilde{r}\\ge\\tilde{R}$."
   ]
  },
  {
   "cell_type": "markdown",
   "id": "3d2a3e8b-7600-4509-b78d-817bdefabc44",
   "metadata": {},
   "source": [
    "For $\\tilde{r}\\ge\\tilde{R}$, the transformation can be integrated analytically.\n",
    "\\begin{align}\n",
    "    e^{\\alpha(r)}{\\rm d}r = \\frac{\\tilde{r}}{r}{\\rm d}r = \\left(1 - \\frac{2M}{\\tilde{r}}\\right)^{-\\frac12}{\\rm d}\\tilde{r}\n",
    "    \\quad\\Rightarrow\\quad\n",
    "    \\frac{{\\rm d}r}{r} = \\frac{{\\rm d}\\tilde{r}}{\\tilde{r}\\sqrt{1 - \\frac{2M}{\\tilde{r}}}}\n",
    "    \\quad\\Rightarrow\\quad\n",
    "    r = C\\left[\\frac{1 + \\sqrt{1 - \\frac{2M}{\\tilde{r}}}}{1-\\sqrt{1 - \\frac{2M}{\\tilde{r}}}}\\right]\n",
    "    \\quad\\Rightarrow\\quad\n",
    "    \\tilde{r} = \\frac{M}{2C}r\\left(1 + \\frac{C}{r}\\right)^2,\n",
    "\\end{align}\n",
    "where $C$ is an integration constant.  To fix this integration constant, we not the the metric must be asymptotically flat.  This requires that\n",
    "\\begin{align}\n",
    "\\lim_{r\\to\\infty}e^{\\alpha(r)} = \\lim_{r\\to\\infty}\\frac{\\tilde{r}}{r} = \\lim_{r\\to\\infty}\\frac{M}{2C}\\left(1 + \\frac{C}{r}\\right)^2    \n",
    "= \\frac{M}{2C} \\to 1.\n",
    "\\end{align}\n",
    "So, we find that $C=\\frac{M}2$, which yields for $\\tilde{r}\\ge\\tilde{R}$: \n",
    "\\begin{align}\n",
    "    \\tilde{r} &= r\\left(1 + \\frac{M}{2r}\\right)^2, \\\\\n",
    "    e^{2\\alpha(r)} &= \\left(1 + \\frac{M}{2r}\\right)^4, \\\\\n",
    "    e^{2\\beta(r)} &= \\left(\\frac{1-\\frac{M}{2r}}{1+\\frac{M}{2r}}\\right)^2.\n",
    "\\end{align}"
   ]
  },
  {
   "cell_type": "markdown",
   "id": "dd7a3528-7a57-41e3-9035-81970ec220c3",
   "metadata": {},
   "source": [
    "The surface of the Neutron Star is at $\\tilde{r}=\\tilde{R}$, which corresponds to\n",
    "\\begin{align}\n",
    "    R =  \\frac{M}2\\left[\\frac{1 + \\sqrt{1 - \\frac{2M}{\\tilde{R}}}}{1-\\sqrt{1 - \\frac{2M}{\\tilde{R}}}}\\right]\n",
    "    = \\frac{\\tilde{R}}4\\left(1 + \\sqrt{1 - \\frac{2M}{\\tilde{R}}}\\right)^2\n",
    "    \\qquad\\leftrightarrow\\qquad\n",
    "    \\tilde{R} = R\\left(1+\\frac{M}{2R}\\right)^2.\n",
    "\\end{align}\n",
    "\n",
    "Interior to the surface of the Neutron Star, we must transform the TOV equation to use the isotropic radial coordinate and explicitly integrate from the surface of the Neutron Star to the center in order to determine the metric functions $\\alpha(r)$ and $\\beta(r)$ (*from which we can obtain $\\gamma(r)$ and $\\rho(r)$*).\n",
    "\\begin{align}\n",
    "    \\frac{{\\rm d}\\tilde{r}(r)}{{\\rm d}r} &= \\frac{\\tilde{r}}{r}\\sqrt{1 - \\frac{2m(r)}{\\tilde{r}}} &&\\text{with}\\qquad \\tilde{r}(R)=\\tilde{R}, \\\\\n",
    "    \\frac{{\\rm d}\\beta(r)}{{\\rm d}r} &= \\frac{{\\rm d}\\Phi(\\tilde{r}(r))}{{\\rm d}\\tilde{r}}\\frac{{\\rm d}\\tilde{r}}{{\\rm d}r}\n",
    "    = \\frac{m(r)+4\\pi \\tilde{r}^3P(r)}{\\tilde{r}[\\tilde{r}-2m(r)]}\\frac{\\tilde{r}}{r}\\sqrt{1 - \\frac{2m(r)}{\\tilde{r}}}\n",
    "    = \\frac{m(r)+4\\pi \\tilde{r}^3P(r)}{\\tilde{r}r\\sqrt{1 - \\frac{2m(r)}{\\tilde{r}}}} &&\\text{with}\\qquad \\beta(R)=\\ln\\left(\\frac{1-\\tfrac{M}{2R}}{1+\\tfrac{M}{2R}}\\right), \\\\\n",
    "    \\frac{{\\rm d}P(r)}{{\\rm d}r} &= \\frac{{\\rm d}P(\\tilde{r}(r))}{{\\rm d}\\tilde{r}}\\frac{{\\rm d}\\tilde{r}}{{\\rm d}r}\n",
    "    = -\\frac{[\\epsilon(r)+P(r)][m(r)+4\\pi \\tilde{r}^3P(r)]}{\\tilde{r}[\\tilde{r}-2m(r)]}\\frac{\\tilde{r}}{r}\\sqrt{1 - \\frac{2m(r)}{\\tilde{r}}}\n",
    "    = -[\\epsilon(r)+P(r)]\\frac{{\\rm d}\\beta(r)}{{\\rm d}r} &&\\text{with}\\qquad P(R)=0, \\\\\n",
    "    \\frac{{\\rm d}m(r)}{{\\rm d}r} &= \\frac{{\\rm d}m(\\tilde{r}(r))}{{\\rm d}\\tilde{r}}\\frac{{\\rm d}\\tilde{r}}{{\\rm d}r}\n",
    "    = 4\\pi\\epsilon(r)\\frac{\\tilde{r}^3}{r}\\sqrt{1 - \\frac{2m(r)}{\\tilde{r}}} &&\\text{with}\\qquad m(R)=M.\n",
    "\\end{align}\n",
    "Then:\n",
    "\\begin{align}\n",
    "    \\alpha(r) &= \\ln\\left(\\frac{\\tilde{r}}{r}\\right), \\\\\n",
    "    \\gamma(r) &= \\beta(r) + \\alpha(r), \\\\\n",
    "    \\rho(r) &= \\beta(r) - \\alpha(r), \\\\\n",
    "    \\omega(r) &= 0.\n",
    "\\end{align}"
   ]
  },
  {
   "cell_type": "markdown",
   "id": "a46df652-0fa3-4d63-a569-715d5fd16cb0",
   "metadata": {},
   "source": [
    "### Solution Scheme"
   ]
  },
  {
   "cell_type": "markdown",
   "id": "5f8f6f97-421a-4bb7-b683-277daad264ee",
   "metadata": {},
   "source": [
    "The general solution scheme is to begin by integrating the TOV eqauation in standard Schwarzschild radial coordinates out from $\\tilde{r}=0$ to the radius $\\tilde{R}$ where $P(\\tilde{R})=0$. This is needed to obtain the mass $M$ and radius $\\tilde{R}$ of a given Neutron Star model.  The integration is non-standard since the radius at which to end the integration is unknown.  This requires special care to properly terminate the integration and accurately determine $\\tilde{R}$.\n",
    "\n",
    "Once $M$ and $\\tilde{R}$ have been determined, we need to integrate again to obtain the metric variables in isotropic radial coordinates.  However, sufficient boundary conditions exist to integrate outward from $r=0$.  Integrating inward from the Neutron Star surface $r=R$ toward the coordinate singularity at $r=0$ is unstable and becomes inaccurate near the origin.  One approach is to integrate to a set of radii in the neighborhood of $r=0$ and then extrapolate the solution to $r=0$ using the fact that the metric potentials will behave as:\n",
    "\\begin{align}\n",
    "    \\tilde{r}(r) &\\approx C_1r, \\\\\n",
    "    m(r) &\\approx C_2r^3, \\\\\n",
    "    P(r) &\\approx C_3 + C_4r^2, \\\\\n",
    "    \\beta(r) &\\approx C_5 + C_6r^2.\n",
    "\\end{align}\n",
    "Another difficulty in integrating the TOV equations inward is that we cannot start exactly at the surface $r=R$ of the Neutron Star where the pressure vanshes.  Because $P=0 \\leftrightarrow \\epsilon=0$, we find that ${\\rm d}P/{\\rm d}r={\\rm d}m/{\\rm d}r=0$ at the surface.  This leads to $P(r)$ and $m(r)$ being constant as we integrate in.  In practice, we need to define the surface of the Neutron Star to have a small, but non-zero pressure and density.\n",
    "\n",
    "An effective scheme to solve the TOV equations in isotropic radial coordinates is to use shooting based on the value of $\\left.\\frac{{\\rm d}\\tilde{r}}{{\\rm d}r}\\right|_{r=0}$.  Together with $\\tilde{r}(0)=0$, $m(0)=0$, a set value for $P(0)$, and letting $\\beta(0)=0$, the equations can be integrated out to $r=R$ where $P(R)$ is determined.  The valule of $\\left.\\frac{{\\rm d}\\tilde{r}}{{\\rm d}r}\\right|_{r=0}$ is adjusted until $P(R)=0$.  In practice, it is useful to integrate inward first to a small value of $r$ to obtain a good initial guess for $\\left.\\frac{{\\rm d}\\tilde{r}}{{\\rm d}r}\\right|_{r=0}$.  Also, shooting based on $P(R)=0$ has proven to be supperior to using $m(R)=M$ or $\\tilde{r}(R)=\\tilde{R}$."
   ]
  },
  {
   "cell_type": "markdown",
   "id": "aa0b9a15-cb91-49dc-951a-d7f54f843131",
   "metadata": {},
   "source": [
    "## Implementation using OrdinaryDiffEq (*part of DifferentialEquations.jl*)"
   ]
  },
  {
   "cell_type": "markdown",
   "id": "56032e6f-2262-41f5-b17a-e893743226ec",
   "metadata": {
    "jp-MarkdownHeadingCollapsed": true
   },
   "source": [
    "### Polytropes"
   ]
  },
  {
   "cell_type": "code",
   "execution_count": null,
   "id": "6e0fb700-5cba-48c8-8b5a-ca3fe47cef0d",
   "metadata": {
    "scrolled": true
   },
   "outputs": [],
   "source": [
    "eos = PolytropicEOS(1/2)\n",
    "edrange = exp10.(range(-2,log10(5),length=200))\n",
    "sols0 = map((ced)->TOVModel(eos,ced,0.8),edrange);"
   ]
  },
  {
   "cell_type": "code",
   "execution_count": null,
   "id": "82127818-e730-406d-af86-10449dc335fa",
   "metadata": {
    "scrolled": true
   },
   "outputs": [],
   "source": [
    "eos = PolytropicEOS(1)\n",
    "edrange = exp10.(range(-4.0,log10(1),length=200))\n",
    "sols1 = map((ced)->TOVModel(eos,ced,1.3),edrange);"
   ]
  },
  {
   "cell_type": "code",
   "execution_count": null,
   "id": "70d73972-fd99-4445-8933-51c08dd8db93",
   "metadata": {
    "scrolled": true
   },
   "outputs": [],
   "source": [
    "eos = PolytropicEOS(3/2)\n",
    "edrange = exp10.(range(-6.0,log10(0.2),length=200))\n",
    "sols2 = map((ced)->TOVModel(eos,ced,18),edrange);"
   ]
  },
  {
   "cell_type": "code",
   "execution_count": null,
   "id": "75e27ef3-716a-4443-8f01-476f03611709",
   "metadata": {
    "scrolled": true
   },
   "outputs": [],
   "source": [
    "eos = PolytropicEOS(2)\n",
    "edrange = exp10.(range(-10.0,log10(0.02),length=200))\n",
    "sols3 = map((ced)->TOVModel(eos,ced,800),edrange);"
   ]
  },
  {
   "cell_type": "code",
   "execution_count": null,
   "id": "bedb7888-c550-43c9-b844-42e7a891ec5a",
   "metadata": {
    "scrolled": true
   },
   "outputs": [],
   "source": [
    "eos = PolytropicEOS(9/4)\n",
    "edrange = exp10.(range(-15.0,log10(0.005),length=200))\n",
    "sols4 = map((ced)->TOVModel(eos,ced,4.e+4),edrange);"
   ]
  },
  {
   "cell_type": "code",
   "execution_count": null,
   "id": "07afabe5-03ae-4434-84be-10075899f165",
   "metadata": {
    "scrolled": true
   },
   "outputs": [],
   "source": [
    "eos = PolytropicEOS(5/2)\n",
    "edrange = exp10.(range(-18,log10(0.0005),length=200))\n",
    "sols5 = map((ced)->TOVModel(eos,ced,9.0e+5),edrange);"
   ]
  },
  {
   "cell_type": "code",
   "execution_count": null,
   "id": "f10e8b6f-d7d0-4377-a23f-d7533c060c71",
   "metadata": {},
   "outputs": [],
   "source": [
    "default(size = (647, 400))\n",
    "plot(getfield.(sols0,:CentralDensity),getfield.(sols0,:TotalMass),xaxis=:log,label=\"n=1/2\")\n",
    "plot!(getfield.(sols1,:CentralDensity),getfield.(sols1,:TotalMass),xaxis=:log,label=\"n=1\")\n",
    "plot!(getfield.(sols2,:CentralDensity),getfield.(sols2,:TotalMass),xaxis=:log,label=\"n=3/2\")\n",
    "plot!(getfield.(sols3,:CentralDensity),getfield.(sols3,:TotalMass),xaxis=:log,label=\"n=2\")\n",
    "plot!(getfield.(sols4,:CentralDensity),getfield.(sols4,:TotalMass),xaxis=:log,label=\"n=9/4\")\n",
    "plot!(getfield.(sols5,:CentralDensity),getfield.(sols5,:TotalMass),xaxis=:log,label=\"n=5/2\",legend=:topleft);xlabel!(\"ϵ₀\");ylabel!(\"M\")"
   ]
  },
  {
   "cell_type": "code",
   "execution_count": null,
   "id": "a41140c8-9b2e-4c32-82c1-fb5d8667c450",
   "metadata": {},
   "outputs": [],
   "source": [
    "default(size = (647, 400))\n",
    "plot(getfield.(sols0,:CentralDensity),getfield.(sols0,:SurfaceRadius),xaxis=:log,yaxis=:log,label=\"n=1/2\")\n",
    "plot!(getfield.(sols1,:CentralDensity),getfield.(sols1,:SurfaceRadius),xaxis=:log,yaxis=:log,label=\"n=1\")\n",
    "plot!(getfield.(sols2,:CentralDensity),getfield.(sols2,:SurfaceRadius),xaxis=:log,yaxis=:log,label=\"n=3/2\")\n",
    "plot!(getfield.(sols3,:CentralDensity),getfield.(sols3,:SurfaceRadius),xaxis=:log,yaxis=:log,label=\"n=2\")\n",
    "plot!(getfield.(sols4,:CentralDensity),getfield.(sols4,:SurfaceRadius),xaxis=:log,yaxis=:log,label=\"n=9/4\")\n",
    "plot!(getfield.(sols5,:CentralDensity),getfield.(sols5,:SurfaceRadius),xaxis=:log,yaxis=:log,label=\"n=5/2\",legend=:topright);xlabel!(\"ϵ₀\");ylabel!(\"R\")"
   ]
  },
  {
   "cell_type": "code",
   "execution_count": null,
   "id": "685278d3-d673-4771-b3f8-9c449af2a32f",
   "metadata": {},
   "outputs": [],
   "source": [
    "default(size = (647, 400))\n",
    "plot(getfield.(sols0,:SurfaceRadius),getfield.(sols0,:TotalMass),xaxis=:log,label=\"n=1/2\")\n",
    "plot!(getfield.(sols1,:SurfaceRadius),getfield.(sols1,:TotalMass),xaxis=:log,label=\"n=1\")\n",
    "plot!(getfield.(sols2,:SurfaceRadius),getfield.(sols2,:TotalMass),xaxis=:log,label=\"n=3/2\")\n",
    "plot!(getfield.(sols3,:SurfaceRadius),getfield.(sols3,:TotalMass),xaxis=:log,label=\"n=2\")\n",
    "plot!(getfield.(sols4,:SurfaceRadius),getfield.(sols4,:TotalMass),xaxis=:log,label=\"n=9/4\")\n",
    "plot!(getfield.(sols5,:SurfaceRadius),getfield.(sols5,:TotalMass),xaxis=:log,label=\"n=5/2\",legend=:topleft);xlabel!(\"R\");ylabel!(\"M\")"
   ]
  },
  {
   "cell_type": "markdown",
   "id": "81f791cb-15f2-47f2-8c46-352ddd4b8145",
   "metadata": {
    "jp-MarkdownHeadingCollapsed": true
   },
   "source": [
    "### Realistic EOS"
   ]
  },
  {
   "cell_type": "code",
   "execution_count": null,
   "id": "79d15f88-9197-4d2a-aa3b-814ec0852ffa",
   "metadata": {
    "scrolled": true
   },
   "outputs": [],
   "source": [
    "eos = RealisticEOS(\"./Tabulated_EOS.h5\",\"A\")\n",
    "edrange = exp10.(range(-0.6,log10(7),length=200))\n",
    "sols0 = map((ced)->TOVModel(eos,ced,2),edrange);"
   ]
  },
  {
   "cell_type": "code",
   "execution_count": null,
   "id": "62ce6c3d-0a99-46cf-9e91-11284cf39cee",
   "metadata": {
    "scrolled": true
   },
   "outputs": [],
   "source": [
    "eos = RealisticEOS(\"./Tabulated_EOS.h5\",\"B\")\n",
    "edrange = exp10.(range(-0.6,log10(9),length=200))\n",
    "sols1 = map((ced)->TOVModel(eos,ced,2),edrange);"
   ]
  },
  {
   "cell_type": "code",
   "execution_count": null,
   "id": "e25bb3e6-e881-40a0-8495-148841fba492",
   "metadata": {
    "scrolled": true
   },
   "outputs": [],
   "source": [
    "eos = RealisticEOS(\"./Tabulated_EOS.h5\",\"C\")\n",
    "edrange = exp10.(range(-0.84,log10(6),length=200))\n",
    "sols2 = map((ced)->TOVModel(eos,ced,2),edrange);"
   ]
  },
  {
   "cell_type": "code",
   "execution_count": null,
   "id": "f4d83d6e-b131-4c58-bd19-13c91113ced9",
   "metadata": {
    "scrolled": true
   },
   "outputs": [],
   "source": [
    "eos = RealisticEOS(\"./Tabulated_EOS.h5\",\"D\")\n",
    "edrange = exp10.(range(-0.73,log10(6),length=200))\n",
    "sols3 = map((ced)->TOVModel(eos,ced,2),edrange);"
   ]
  },
  {
   "cell_type": "code",
   "execution_count": null,
   "id": "ebcb4945-5ef0-466f-8889-da1a1219b70e",
   "metadata": {
    "scrolled": true
   },
   "outputs": [],
   "source": [
    "eos = RealisticEOS(\"./Tabulated_EOS.h5\",\"E\")\n",
    "edrange = exp10.(range(-0.62,log10(6),length=200))\n",
    "sols4 = map((ced)->TOVModel(eos,ced,2),edrange);"
   ]
  },
  {
   "cell_type": "code",
   "execution_count": null,
   "id": "82a8fca1-27d2-4fad-a09f-0a6d2c81e78c",
   "metadata": {
    "scrolled": true
   },
   "outputs": [],
   "source": [
    "eos = RealisticEOS(\"./Tabulated_EOS.h5\",\"F\")\n",
    "edrange = exp10.(range(-0.69,log10(10),length=200))\n",
    "sols5 = map((ced)->TOVModel(eos,ced,2),edrange);"
   ]
  },
  {
   "cell_type": "code",
   "execution_count": null,
   "id": "2d418d65-11bc-471e-9452-5bd6bf6c5e77",
   "metadata": {
    "scrolled": true
   },
   "outputs": [],
   "source": [
    "eos = RealisticEOS(\"./Tabulated_EOS.h5\",\"G\")\n",
    "edrange = exp10.(range(-0.61,log10(12),length=200))\n",
    "sols6 = map((ced)->TOVModel(eos,ced,2),edrange);"
   ]
  },
  {
   "cell_type": "code",
   "execution_count": null,
   "id": "3d29a8d0-8df0-4db1-ab4f-adbc7ded8527",
   "metadata": {
    "scrolled": true
   },
   "outputs": [],
   "source": [
    "eos = RealisticEOS(\"./Tabulated_EOS.h5\",\"L\")\n",
    "edrange = exp10.(range(-0.82,log10(3),length=200))\n",
    "sols7 = map((ced)->TOVModel(eos,ced,2),edrange);"
   ]
  },
  {
   "cell_type": "code",
   "execution_count": null,
   "id": "dab2f0ff-2ad5-4731-822d-566c29727b8a",
   "metadata": {
    "scrolled": true
   },
   "outputs": [],
   "source": [
    "eos = RealisticEOS(\"./Tabulated_EOS.h5\",\"M\")\n",
    "edrange = exp10.(range(-1.1,log10(3),length=200))\n",
    "sols8 = map((ced)->TOVModel(eos,ced,2),edrange);"
   ]
  },
  {
   "cell_type": "code",
   "execution_count": null,
   "id": "b69ff2aa-f766-4de8-8696-6f4117305b6b",
   "metadata": {
    "scrolled": true
   },
   "outputs": [],
   "source": [
    "eos = RealisticEOS(\"./Tabulated_EOS.h5\",\"N\")\n",
    "edrange = exp10.(range(-0.72,log10(3),length=200))\n",
    "sols9 = map((ced)->TOVModel(eos,ced,2),edrange);"
   ]
  },
  {
   "cell_type": "code",
   "execution_count": null,
   "id": "a4e1d8d1-7f83-4d08-ab39-a43d6446ab66",
   "metadata": {
    "scrolled": true
   },
   "outputs": [],
   "source": [
    "eos = RealisticEOS(\"./Tabulated_EOS.h5\",\"AU\")\n",
    "edrange = exp10.(range(-0.48,log10(5),length=200))\n",
    "sols10 = map((ced)->TOVModel(eos,ced,2),edrange);"
   ]
  },
  {
   "cell_type": "code",
   "execution_count": null,
   "id": "bc896f69-72e6-4dd5-9847-e08b252d8d0c",
   "metadata": {
    "scrolled": true
   },
   "outputs": [],
   "source": [
    "eos = RealisticEOS(\"./Tabulated_EOS.h5\",\"UU\")\n",
    "edrange = exp10.(range(-0.54,log10(5),length=200))\n",
    "sols11 = map((ced)->TOVModel(eos,ced,2),edrange);"
   ]
  },
  {
   "cell_type": "code",
   "execution_count": null,
   "id": "595d3f87-ef37-4fbf-9fcf-502ffa79363c",
   "metadata": {
    "scrolled": true
   },
   "outputs": [],
   "source": [
    "eos = RealisticEOS(\"./Tabulated_EOS.h5\",\"UT\")\n",
    "edrange = exp10.(range(-0.52,log10(5),length=200))\n",
    "sols12 = map((ced)->TOVModel(eos,ced,2),edrange);"
   ]
  },
  {
   "cell_type": "code",
   "execution_count": null,
   "id": "dda2b131-a3bc-4c17-9ed2-c1cb8afd7ddc",
   "metadata": {
    "scrolled": true
   },
   "outputs": [],
   "source": [
    "eos = RealisticEOS(\"./Tabulated_EOS.h5\",\"FPS\")\n",
    "edrange = exp10.(range(-0.59,log10(7),length=200))\n",
    "sols13 = map((ced)->TOVModel(eos,ced,2),edrange);"
   ]
  },
  {
   "cell_type": "code",
   "execution_count": null,
   "id": "de81b1c6-ebc1-4b00-971b-42f55d065cb9",
   "metadata": {},
   "outputs": [],
   "source": [
    "default(size = (647, 400))\n",
    "plot(getfield.(sols0,:CentralDensity),getfield.(sols0,:TotalMass),xaxis=:log,label=\"A\")\n",
    "plot!(getfield.(sols1,:CentralDensity),getfield.(sols1,:TotalMass),xaxis=:log,label=\"B\")\n",
    "plot!(getfield.(sols2,:CentralDensity),getfield.(sols2,:TotalMass),xaxis=:log,label=\"C\")\n",
    "plot!(getfield.(sols3,:CentralDensity),getfield.(sols3,:TotalMass),xaxis=:log,label=\"D\")\n",
    "plot!(getfield.(sols4,:CentralDensity),getfield.(sols4,:TotalMass),xaxis=:log,label=\"E\")\n",
    "plot!(getfield.(sols5,:CentralDensity),getfield.(sols5,:TotalMass),xaxis=:log,label=\"F\")\n",
    "plot!(getfield.(sols6,:CentralDensity),getfield.(sols6,:TotalMass),xaxis=:log,label=\"G\")\n",
    "plot!(getfield.(sols7,:CentralDensity),getfield.(sols7,:TotalMass),xaxis=:log,label=\"L\") # High Mass\n",
    "plot!(getfield.(sols8,:CentralDensity),getfield.(sols8,:TotalMass),xaxis=:log,label=\"M\")\n",
    "plot!(getfield.(sols9,:CentralDensity),getfield.(sols9,:TotalMass),xaxis=:log,label=\"N\") # High Mass\n",
    "plot!(getfield.(sols10,:CentralDensity),getfield.(sols10,:TotalMass),xaxis=:log,label=\"AU\") # Large Radius at low density\n",
    "plot!(getfield.(sols11,:CentralDensity),getfield.(sols11,:TotalMass),xaxis=:log,label=\"UU\")\n",
    "plot!(getfield.(sols12,:CentralDensity),getfield.(sols12,:TotalMass),xaxis=:log,label=\"UT\")\n",
    "plot!(getfield.(sols13,:CentralDensity),getfield.(sols13,:TotalMass),xaxis=:log,label=\"FPS\",legend=:topleft);xlabel!(\"ϵ₀\");ylabel!(\"M\")"
   ]
  },
  {
   "cell_type": "code",
   "execution_count": null,
   "id": "e0d83549-7ae5-415e-9a78-fc64ca677a88",
   "metadata": {},
   "outputs": [],
   "source": [
    "default(size = (647, 400))\n",
    "plot(getfield.(sols0,:CentralDensity),getfield.(sols0,:SurfaceRadius),xaxis=:log,label=\"A\")\n",
    "plot!(getfield.(sols1,:CentralDensity),getfield.(sols1,:SurfaceRadius),xaxis=:log,label=\"B\")\n",
    "plot!(getfield.(sols2,:CentralDensity),getfield.(sols2,:SurfaceRadius),xaxis=:log,label=\"C\")\n",
    "plot!(getfield.(sols3,:CentralDensity),getfield.(sols3,:SurfaceRadius),xaxis=:log,label=\"D\")\n",
    "plot!(getfield.(sols4,:CentralDensity),getfield.(sols4,:SurfaceRadius),xaxis=:log,label=\"E\")\n",
    "plot!(getfield.(sols5,:CentralDensity),getfield.(sols5,:SurfaceRadius),xaxis=:log,label=\"F\")\n",
    "plot!(getfield.(sols6,:CentralDensity),getfield.(sols6,:SurfaceRadius),xaxis=:log,label=\"G\")\n",
    "plot!(getfield.(sols7,:CentralDensity),getfield.(sols7,:SurfaceRadius),xaxis=:log,label=\"L\")\n",
    "plot!(getfield.(sols8,:CentralDensity),getfield.(sols8,:SurfaceRadius),xaxis=:log,label=\"M\")\n",
    "plot!(getfield.(sols9,:CentralDensity),getfield.(sols9,:SurfaceRadius),xaxis=:log,label=\"N\")\n",
    "plot!(getfield.(sols10,:CentralDensity),getfield.(sols10,:SurfaceRadius),xaxis=:log,label=\"AU\")\n",
    "plot!(getfield.(sols11,:CentralDensity),getfield.(sols11,:SurfaceRadius),xaxis=:log,label=\"UU\")\n",
    "plot!(getfield.(sols12,:CentralDensity),getfield.(sols12,:SurfaceRadius),xaxis=:log,label=\"UT\")\n",
    "plot!(getfield.(sols13,:CentralDensity),getfield.(sols13,:SurfaceRadius),xaxis=:log,label=\"FPS\",legend=:topright);xlabel!(\"ϵ₀\");ylabel!(\"R\")"
   ]
  },
  {
   "cell_type": "code",
   "execution_count": null,
   "id": "f61addb1-6367-43fa-a45a-9e3e747383d7",
   "metadata": {},
   "outputs": [],
   "source": [
    "default(size = (647, 400))\n",
    "plot(getfield.(sols0,:SurfaceRadius),getfield.(sols0,:TotalMass),xaxis=:log,label=\"A\")\n",
    "plot!(getfield.(sols1,:SurfaceRadius),getfield.(sols1,:TotalMass),xaxis=:log,label=\"B\")\n",
    "plot!(getfield.(sols2,:SurfaceRadius),getfield.(sols2,:TotalMass),xaxis=:log,label=\"C\")\n",
    "plot!(getfield.(sols3,:SurfaceRadius),getfield.(sols3,:TotalMass),xaxis=:log,label=\"D\")\n",
    "plot!(getfield.(sols4,:SurfaceRadius),getfield.(sols4,:TotalMass),xaxis=:log,label=\"E\")\n",
    "plot!(getfield.(sols5,:SurfaceRadius),getfield.(sols5,:TotalMass),xaxis=:log,label=\"F\")\n",
    "plot!(getfield.(sols6,:SurfaceRadius),getfield.(sols6,:TotalMass),xaxis=:log,label=\"G\")\n",
    "plot!(getfield.(sols7,:SurfaceRadius),getfield.(sols7,:TotalMass),xaxis=:log,label=\"L\")\n",
    "plot!(getfield.(sols8,:SurfaceRadius),getfield.(sols8,:TotalMass),xaxis=:log,label=\"M\")\n",
    "plot!(getfield.(sols9,:SurfaceRadius),getfield.(sols9,:TotalMass),xaxis=:log,label=\"N\")\n",
    "plot!(getfield.(sols10,:SurfaceRadius),getfield.(sols10,:TotalMass),xaxis=:log,label=\"AU\") # Large Radius at low density\n",
    "plot!(getfield.(sols11,:SurfaceRadius),getfield.(sols11,:TotalMass),xaxis=:log,label=\"UU\")\n",
    "plot!(getfield.(sols12,:SurfaceRadius),getfield.(sols12,:TotalMass),xaxis=:log,label=\"UT\")\n",
    "plot!(getfield.(sols13,:SurfaceRadius),getfield.(sols13,:TotalMass),xaxis=:log,label=\"FPS\",legend=:topright);xlabel!(\"R\");ylabel!(\"M\")"
   ]
  },
  {
   "cell_type": "markdown",
   "id": "b5920f87-061e-41a3-a546-b9d59de2ec32",
   "metadata": {
    "jp-MarkdownHeadingCollapsed": true
   },
   "source": [
    "### Tests"
   ]
  },
  {
   "cell_type": "code",
   "execution_count": null,
   "id": "6919985a-b60b-4712-91e2-a17576cf49d5",
   "metadata": {},
   "outputs": [],
   "source": [
    "eos = PolytropicEOS(1.0)\n",
    "sol=TOVModel(eos,0.2736,1.0)\n",
    "println(\"R = \",sol.SurfaceRadius,\" : M = \",sol.TotalMass,\" : P(R) = \",sol.SurfacePressure)"
   ]
  },
  {
   "cell_type": "code",
   "execution_count": null,
   "id": "01ccecc5-8f78-484a-aac7-6d89d947f0f6",
   "metadata": {},
   "outputs": [],
   "source": [
    "plot(sol.Solution,idxs=[(0,1)],label=(\"Mass\"),xlabel=\"r\",ylabel=\"M\")"
   ]
  },
  {
   "cell_type": "code",
   "execution_count": null,
   "id": "fde3b3bc-ccbb-41ad-affa-b55e1f57407e",
   "metadata": {},
   "outputs": [],
   "source": [
    "plot(sol.Solution,idxs=[(0,3)],label=(\"Pressure\"),xlabel=\"r\",ylabel=\"P\",yaxis=:log)"
   ]
  },
  {
   "cell_type": "code",
   "execution_count": null,
   "id": "01d910f9-98c5-4cc9-83db-2d1985b79bf5",
   "metadata": {},
   "outputs": [],
   "source": [
    "Δβ = log(1-2*sol.TotalMass/sol.SurfaceRadius)-log(1+2*sol.TotalMass/sol.SurfaceRadius)-sol.Solution[2,end] # need to compute \"global\" correction\n",
    "correctβ(r,β) = (r, β+Δβ) # function to transform Φ\n",
    "plot(sol.Solution,idxs=(correctβ,0,2),label=(\"Potential\"),xlabel=\"r\",ylabel=\"β\")"
   ]
  },
  {
   "cell_type": "markdown",
   "id": "0f79fb14-a608-4494-b253-be3b586855ef",
   "metadata": {
    "jp-MarkdownHeadingCollapsed": true
   },
   "source": [
    "## Equations of State"
   ]
  },
  {
   "cell_type": "markdown",
   "id": "3038d17d-20a9-4cdc-8367-a06464f8e653",
   "metadata": {},
   "source": [
    "Solutions are parameterized in terms of the central pressure $P_c$, or equivalently in terms of the central entergy density $\\epsilon_c$.  The pressure and energy density are related via an Equation of State (EOS) which specifies $\\epsilon(P)$, or equivalently $P(\\epsilon)$.  The EOS also specifies the rest-mass density $\\rho_0$ as a function of either pressure or energy density.  We define the internal energy density $\\rho_i$ such that\n",
    "\\begin{align}\n",
    "    \\epsilon = \\rho_0 + \\rho_i.\n",
    "\\end{align}\n",
    "For Neutron-Star matter, we will take the rest-mass density to be given by\n",
    "\\begin{align}\n",
    "    \\rho_0 = \\mu_0 n_b,\n",
    "\\end{align}\n",
    "where $\\mu_0\\approx 1.659\\times10^{-24}\\,\\text{g}/\\text{cm}^3$ is the average mass-per-baryon, and $n_b$ is the number density of baryons.  We will consider two types of Equations of State:"
   ]
  },
  {
   "cell_type": "markdown",
   "id": "21754b2f-0e37-4445-88be-de3a15e54047",
   "metadata": {
    "jp-MarkdownHeadingCollapsed": true
   },
   "source": [
    "### Polytropic Equation of State"
   ]
  },
  {
   "cell_type": "markdown",
   "id": "83832420-aa3d-480c-87b1-7ca53dfca926",
   "metadata": {},
   "source": [
    "For a polytropic equation-of-state (EOS), we have\n",
    "\\begin{align} \n",
    "\tP &=K\\rho_0^{1+\\frac1n}, \\\\\n",
    "\t&= (\\Gamma-1)\\rho_i,\n",
    "\\end{align}\n",
    "where the polytropic index $n$ and adiabatic index $\\Gamma$ are related by\n",
    "\\begin{align}\n",
    "\t\\Gamma = 1 + \\frac1n.\n",
    "\\end{align}\n",
    "Here, $K$ is the polytropic constant, and the relationship between pressure and internal energy density assumes that all changes are adiabatic.  The polytropic index takes the range of values $\\frac12\\le n<3$, corresponding to a range of $\\frac43<\\Gamma\\le3$ for the adiabatic index.  In general terminology, an EOS is referred to as being \"stiffer\" for larger values of $\\Gamma$ and \"softer\" for smaller values of $\\Gamma$."
   ]
  },
  {
   "cell_type": "markdown",
   "id": "81f5d4f0-1794-4691-b7e9-b3901749415b",
   "metadata": {
    "jp-MarkdownHeadingCollapsed": true
   },
   "source": [
    "### Realistic Equations of State"
   ]
  },
  {
   "cell_type": "markdown",
   "id": "a5d3e903-c260-497e-bace-ea3fad1b38f6",
   "metadata": {},
   "source": [
    "We will also consider realistic equations of state provided in tabular form.  These tabular EOS are a *fusion* of different equations of state which span a large range of pressure and density.  At low density, we use the Feynman-Metropolis-Teller (FMT) EOS, which then joins onto the Baym-Pethick-Sutherland (BPS) EOS up to neutron drip.  Above neutron drip, most EOS join onto the Baym-Bethe-Pethick (BBP) EOS and then onto a specific high-density EOS.  In some cases, the BBP EOS is replaced by the Negele-Vautherin (NV) EOS.  All tabulated EOS present 3 columns of data:\n",
    "\\begin{align}\n",
    "    \\text{Column 1} &:\\quad \\text{Baryon number density \\ } n_b \\text{\\ in units of\\ }(\\text{cm}^{-3}) \\\\\n",
    "    \\text{Column 2} &:\\quad \\text{Total mass density \\ } \\epsilon \\text{\\ in units of\\ }(\\text{g}\\cdot\\text{cm}^{-3}) \\\\\n",
    "    \\text{Column 3} &:\\quad \\text{Pressure \\ } P \\text{\\ in units of\\ }(\\text{dyne}\\cdot\\text{cm}^{-2})\n",
    "\\end{align}\n",
    "Some tabulated EOS containt *phase transitions* in the form of multiple consecutive entries with the same value of the pressure."
   ]
  },
  {
   "cell_type": "markdown",
   "id": "510f19f7-5453-483e-90bb-2346c69a4546",
   "metadata": {
    "jp-MarkdownHeadingCollapsed": true
   },
   "source": [
    "#### Tabulated EOS Interpolations"
   ]
  },
  {
   "cell_type": "markdown",
   "id": "c080e6cf-3417-42be-b574-60338331a7d8",
   "metadata": {},
   "source": [
    "Tabulated EOS values are interpolated using linear interpolation: $y(x) = y_{lo} + \\frac{(x-x_{lo})}{(x_{hi}-x_{lo})}(y_{hi}-y_{lo})$.  Each column of tabulated data is in non-decreasing order, but allowing for consecutive value to be equal.  During interpolation, values for $x_{lo}$ and $x_{hi}$ are chosen as consecutive values in a column such that $x_{lo}\\le x < x_{hi}$, unless there is a phase transition in that column, in which $x_{lo}=x=x_{hi}$ and $x_{lo}$ chosen as the first of the sequential values.  Values for $y_{lo}$ and $y_{hi}$ are taken from the same rows as the corresponding $x_{lo}$ and $x_{hi}$."
   ]
  },
  {
   "cell_type": "markdown",
   "id": "11efb044-b2df-4dc1-acd1-24b033a4a7b6",
   "metadata": {
    "jp-MarkdownHeadingCollapsed": true
   },
   "source": [
    "## Dimensionless Variables."
   ]
  },
  {
   "cell_type": "markdown",
   "id": "2c709916-ca7a-41cc-8664-18be345a8aed",
   "metadata": {},
   "source": [
    "During computations, it is useful to use dimensionless variables.  Depending on the EOS, we will define a dimensionfull constant $\\kappa$ to have dimensions of $(\\text{length})^2$.  For polytropes, we will take $\\kappa = K^n$, where $K$ is the polytropic constant.  For realistic EOS, we will take $\\kappa = \\frac{c^2}{G\\epsilon_0}$, where $\\epsilon_0=10^{-15}\\,\\text{g}\\cdot\\text{cm}^{-3}$.  We will define quantities with \"overbars\" to be dimensionless quantities.  For example, the radial and time coordinates, including factors of $G$ and $c$, behave as:\n",
    "\\begin{align}\n",
    "    \\bar{r} &\\equiv \\kappa^{-\\frac12}\\,r, \\\\\n",
    "    \\bar{t} &\\equiv \\kappa^{-\\frac12}\\,ct.\n",
    "\\end{align}\n",
    "The rest-mass density and total energy density behave as:\n",
    "\\begin{align}\n",
    "    \\bar\\rho_0 &\\equiv \\kappa\\,\\frac{G}{c^2}\\rho_0, \\\\\n",
    "    \\bar\\epsilon &\\equiv \\kappa\\,\\frac{G}{c^2}\\epsilon,\n",
    "\\end{align}\n",
    "*and we note that the total energy density is expressed as mass and not as energy.*  Pressure behaves as:\n",
    "\\begin{align}\n",
    "    \\bar{P} \\equiv \\kappa\\,\\frac{G}{c^4}P,\n",
    "\\end{align}\n",
    "while mass $M$, angular momentum $J$, and angular velocities like $\\omega$ and $\\Omega$ behave as:\n",
    "\\begin{align}\n",
    "    \\bar{M} &\\equiv \\kappa^{-\\frac12}\\,\\frac{G}{c^2}M, \\\\\n",
    "    \\bar{J} &\\equiv \\kappa^{-1}\\,\\frac{G}{c^3}J, \\\\\n",
    "    \\bar\\omega &\\equiv \\kappa^{\\frac12}\\, \\frac1{c}\\omega, \\\\\n",
    "    \\bar\\Omega &\\equiv \\kappa^{\\frac12}\\, \\frac1{c}\\Omega.\n",
    "\\end{align}\n",
    "Finally, for polytopes, an additional dimensionless variable is often useful.  In geometric units:\n",
    "\\begin{align}\n",
    "    q &\\equiv \\frac{P}{\\rho_0} = \\frac{\\bar{P}}{\\bar\\rho_0}.\n",
    "\\end{align}\n",
    "In terms of $q$, we find that \n",
    "\\begin{align}\n",
    "    \\bar\\rho_0 &\\equiv q^n, \\\\\n",
    "    \\bar\\rho_i &\\equiv nq^{n+1}, \\\\\n",
    "    \\bar\\epsilon &= (1+nq)q^n, \\\\\n",
    "    \\bar{P} &\\equiv q^{n+1}.\n",
    "\\end{align}"
   ]
  },
  {
   "cell_type": "markdown",
   "id": "5d786e18-9e72-4610-aa3b-7837413c6e87",
   "metadata": {},
   "source": []
  }
 ],
 "metadata": {
  "kernelspec": {
   "display_name": "Julia 1.11.2",
   "language": "julia",
   "name": "julia-1.11"
  },
  "language_info": {
   "file_extension": ".jl",
   "mimetype": "application/julia",
   "name": "julia",
   "version": "1.11.2"
  }
 },
 "nbformat": 4,
 "nbformat_minor": 5
}

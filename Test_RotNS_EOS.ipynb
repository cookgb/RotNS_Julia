{
 "cells": [
  {
   "cell_type": "code",
   "execution_count": null,
   "id": "06ec9ee6-958c-45df-9736-d080f06ac683",
   "metadata": {},
   "outputs": [],
   "source": [
    "include(\"RotNS_EOS.jl\")\n",
    "using Plots"
   ]
  },
  {
   "cell_type": "code",
   "execution_count": null,
   "id": "28f233f0-9e64-4a8a-87ec-f2aee9fe4de9",
   "metadata": {},
   "outputs": [],
   "source": [
    "eos = RealisticEOS(\"./Tabulated_EOS.h5\",\"M\");"
   ]
  },
  {
   "cell_type": "code",
   "execution_count": null,
   "id": "f7c60ea4-0b6f-4f3c-89f6-633699c6f783",
   "metadata": {},
   "outputs": [],
   "source": [
    "eos = RealisticEOS(\"./Tabulated_EOS.h5\",\"M\")\n",
    "println(\"Phase change Pressure = \",exp(eos.phasePs[1]))\n",
    "println(\"Phase change Energy Density = \",EnergyDensityfromPressure(eos,exp(eos.phasePs[1])))"
   ]
  },
  {
   "cell_type": "markdown",
   "id": "e0d7424a-5e8c-4f66-89be-40773c72365b",
   "metadata": {
    "jp-MarkdownHeadingCollapsed": true
   },
   "source": [
    "# Test interpolations vs Pressure"
   ]
  },
  {
   "cell_type": "markdown",
   "id": "6d538e1a-dc82-4bec-8bf7-4d63c8e49a65",
   "metadata": {
    "jp-MarkdownHeadingCollapsed": true
   },
   "source": [
    "### $P$ vs $\\epsilon$"
   ]
  },
  {
   "cell_type": "code",
   "execution_count": null,
   "id": "ef80aff2-3445-4981-9e3a-812302d43375",
   "metadata": {},
   "outputs": [],
   "source": [
    "plot(exp.(eos.tmd),exp.(eos.P),marker=:circle,xaxis=:log, yaxis=:log,labels=\"Pressure\",legend=:topleft);xlabel!(\"ϵ\");ylabel!(\"P\")"
   ]
  },
  {
   "cell_type": "code",
   "execution_count": null,
   "id": "bff6f377-3a67-4cd0-ab5f-77a8bff5fc41",
   "metadata": {},
   "outputs": [],
   "source": [
    "Pr = exp.(range(eos.P[1],eos.P[end],length=500))\n",
    "Er = map((P)->EnergyDensityfromPressure(eos,P),Pr)\n",
    "plot(Er,Pr,xaxis=:log, yaxis=:log,labels=\"Pressure\",legend=:topleft)\n",
    "plot!(exp.(eos.tmd),exp.(eos.P),xaxis=:log, yaxis=:log,labels=\"Pressure\",legend=:topleft);xlabel!(\"ϵ\");ylabel!(\"P\")"
   ]
  },
  {
   "cell_type": "code",
   "execution_count": null,
   "id": "06e38436-29a2-4457-a3d7-bf513a5eea78",
   "metadata": {},
   "outputs": [],
   "source": [
    "Pr = exp.(range(eos.P[350],eos.P[400],length=50))\n",
    "Er = map((P)->EnergyDensityfromPressure(eos,P),Pr)\n",
    "plot(Er,Pr,marker=:circle, xaxis=:log,yaxis=:log,labels=\"Pressure\",legend=:topleft)\n",
    "plot!(exp.(eos.tmd[350:400]),exp.(eos.P[350:400]),xaxis=:log, yaxis=:log,labels=\"Pressure\",legend=:topleft);xlabel!(\"ϵ\");ylabel!(\"P\")"
   ]
  },
  {
   "cell_type": "markdown",
   "id": "32bafa30-9b85-49f8-9dd2-d438683b3bc4",
   "metadata": {
    "jp-MarkdownHeadingCollapsed": true
   },
   "source": [
    "### $P$ vs $\\rho$ "
   ]
  },
  {
   "cell_type": "code",
   "execution_count": null,
   "id": "87b0c360-480d-4382-ab2b-492311c5e8a5",
   "metadata": {},
   "outputs": [],
   "source": [
    "plot(exp.(eos.bmd),exp.(eos.P),marker=:circle,xaxis=:log, yaxis=:log,labels=\"Pressure\",legend=:topleft);xlabel!(\"ρ\");ylabel!(\"P\")"
   ]
  },
  {
   "cell_type": "code",
   "execution_count": null,
   "id": "49930e10-5c14-41f2-8b5f-16b0a13b5cac",
   "metadata": {},
   "outputs": [],
   "source": [
    "Pr = exp.(range(eos.P[1],eos.P[end],length=500))\n",
    "BMDr = map((P)->BaryonMassDensityfromPressure(eos,P),Pr)\n",
    "plot(BMDr,Pr,xaxis=:log,yaxis=:log,labels=\"Pressure\",legend=:topleft)\n",
    "plot!(exp.(eos.bmd),exp.(eos.P),xaxis=:log, yaxis=:log,labels=\"Pressure\",legend=:topleft);xlabel!(\"ρ\");ylabel!(\"P\")"
   ]
  },
  {
   "cell_type": "code",
   "execution_count": null,
   "id": "56dd4ed7-3373-4d8b-b3d8-9760b2c81ad1",
   "metadata": {},
   "outputs": [],
   "source": [
    "Pr = exp.(range(eos.P[350],eos.P[400],length=50))\n",
    "BMDr = map((P)->BaryonMassDensityfromPressure(eos,P),Pr)\n",
    "plot(BMDr,Pr,marker=:circle, xaxis=:log,yaxis=:log,labels=\"Pressure\",legend=:topleft)\n",
    "plot!(exp.(eos.bmd[350:400]),exp.(eos.P[350:400]),xaxis=:log, yaxis=:log,labels=\"Pressure\",legend=:topleft);xlabel!(\"ρ\");ylabel!(\"P\")"
   ]
  },
  {
   "cell_type": "markdown",
   "id": "ae25d81c-106d-4f33-98ec-360edd706034",
   "metadata": {
    "jp-MarkdownHeadingCollapsed": true
   },
   "source": [
    "### $P$ vs $H$"
   ]
  },
  {
   "cell_type": "code",
   "execution_count": null,
   "id": "2c01f089-c2ed-41b0-bc2a-321a7f93f092",
   "metadata": {},
   "outputs": [],
   "source": [
    "plot(exp.(eos.H),exp.(eos.P),marker=:circle,xaxis=:log, yaxis=:log,labels=\"Pressure\",legend=:topleft);xlabel!(\"H\");ylabel!(\"P\")"
   ]
  },
  {
   "cell_type": "code",
   "execution_count": null,
   "id": "4e852fe6-6642-41b0-b5fa-1a75089c7762",
   "metadata": {},
   "outputs": [],
   "source": [
    "Pr = exp.(range(eos.P[1],eos.P[end],length=500))\n",
    "Hr = map((P)->EnthalpyfromPressure(eos,P),Pr)\n",
    "plot(Hr,Pr,xaxis=:log,yaxis=:log,labels=\"Pressure\",legend=:topleft)\n",
    "plot!(exp.(eos.H),exp.(eos.P),xaxis=:log, yaxis=:log,labels=\"Pressure\",legend=:topleft);xlabel!(\"H\");ylabel!(\"P\")"
   ]
  },
  {
   "cell_type": "code",
   "execution_count": null,
   "id": "7dafab1b-878c-46ba-bac5-88a81fca20ae",
   "metadata": {},
   "outputs": [],
   "source": [
    "Pr = exp.(range(eos.P[350],eos.P[400],length=50))\n",
    "Hr = map((P)->EnthalpyfromPressure(eos,P),Pr)\n",
    "plot(Hr,Pr,marker=:circle, xaxis=:log,yaxis=:log,labels=\"Pressure\",legend=:topleft)\n",
    "plot!(exp.(eos.H[350:400]),exp.(eos.P[350:400]),xaxis=:log, yaxis=:log,labels=\"Pressure\",legend=:topleft);xlabel!(\"H\");ylabel!(\"P\")"
   ]
  },
  {
   "cell_type": "markdown",
   "id": "698f181b-a465-4256-b5f9-2ecb5787e542",
   "metadata": {
    "jp-MarkdownHeadingCollapsed": true
   },
   "source": [
    "# Test interpolations vs Energy Density"
   ]
  },
  {
   "cell_type": "markdown",
   "id": "d2226683-fcb1-491f-abce-7ea48fa37d9d",
   "metadata": {
    "jp-MarkdownHeadingCollapsed": true
   },
   "source": [
    "### $P$ vs $\\epsilon$"
   ]
  },
  {
   "cell_type": "code",
   "execution_count": null,
   "id": "e83dcaf6-cf50-4e67-90be-eb6e0e341db2",
   "metadata": {},
   "outputs": [],
   "source": [
    "plot(exp.(eos.tmd),exp.(eos.P),marker=:circle,xaxis=:log, yaxis=:log,labels=\"Pressure\",legend=:topleft);xlabel!(\"ϵ\");ylabel!(\"P\")"
   ]
  },
  {
   "cell_type": "code",
   "execution_count": null,
   "id": "83a7f084-ea5a-4e8a-b3f2-15204d62d6d1",
   "metadata": {},
   "outputs": [],
   "source": [
    "Er = exp.(range(eos.tmd[1],eos.tmd[end],length=500))\n",
    "Pr = map((E)->PressurefromEnergyDensity(eos,E),Er)\n",
    "plot(Er,Pr,xaxis=:log, yaxis=:log,labels=\"Pressure\",legend=:topleft)\n",
    "plot!(exp.(eos.tmd),exp.(eos.P),xaxis=:log, yaxis=:log,labels=\"Pressure\",legend=:topleft);xlabel!(\"ϵ\");ylabel!(\"P\")"
   ]
  },
  {
   "cell_type": "code",
   "execution_count": null,
   "id": "f77410c9-3395-44dc-819e-13bb83ab8d70",
   "metadata": {},
   "outputs": [],
   "source": [
    "Er = exp.(range(eos.tmd[350],eos.tmd[400],length=50))\n",
    "Pr = map((E)->PressurefromEnergyDensity(eos,E),Er)\n",
    "plot(Er,Pr,marker=:circle, xaxis=:log, yaxis=:log,labels=\"Pressure\",legend=:topleft)\n",
    "plot!(exp.(eos.tmd[350:400]),exp.(eos.P[350:400]),xaxis=:log, yaxis=:log,labels=\"Pressure\",legend=:topleft);xlabel!(\"ϵ\");ylabel!(\"P\")"
   ]
  },
  {
   "cell_type": "markdown",
   "id": "1276a9cb-036d-4ce9-ba88-7d53abb87adb",
   "metadata": {
    "jp-MarkdownHeadingCollapsed": true
   },
   "source": [
    "### $\\rho$ vs $\\epsilon$"
   ]
  },
  {
   "cell_type": "code",
   "execution_count": null,
   "id": "2506ab49-e5b4-4c9a-8de6-2deca03347f6",
   "metadata": {},
   "outputs": [],
   "source": [
    "plot(exp.(eos.tmd),exp.(eos.bmd),marker=:circle,xaxis=:log, yaxis=:log,labels=\"Baryon Mass Density\",legend=:topleft);xlabel!(\"ϵ\");ylabel!(\"ρ\")"
   ]
  },
  {
   "cell_type": "code",
   "execution_count": null,
   "id": "3addf500-d90c-4369-9c80-df2786945b42",
   "metadata": {},
   "outputs": [],
   "source": [
    "Er = exp.(range(eos.tmd[1],eos.tmd[end],length=500))\n",
    "BMDr = map((E)->BaryonMassDensityfromEnergyDensity(eos,E),Er)\n",
    "plot(Er,BMDr,xaxis=:log, yaxis=:log,labels=\"Baryon Mass Density\",legend=:topleft)\n",
    "plot!(exp.(eos.tmd),exp.(eos.bmd),xaxis=:log, yaxis=:log,labels=\"Baryon Mass Density\",legend=:topleft);xlabel!(\"ϵ\");ylabel!(\"ρ\")"
   ]
  },
  {
   "cell_type": "code",
   "execution_count": null,
   "id": "3289c3fc-e089-48aa-a9c1-e2f344a02c95",
   "metadata": {},
   "outputs": [],
   "source": [
    "Er = exp.(range(eos.tmd[350],eos.tmd[400],length=50))\n",
    "BMDr = map((E)->BaryonMassDensityfromEnergyDensity(eos,E),Er)\n",
    "plot(Er,BMDr,marker=:circle, xaxis=:log, yaxis=:log,labels=\"Baryon Mass Density\",legend=:topleft)\n",
    "plot!(exp.(eos.tmd[350:400]),exp.(eos.bmd[350:400]),xaxis=:log, yaxis=:log,labels=\"Baryon Mass Density\",legend=:topleft);xlabel!(\"ϵ\");ylabel!(\"ρ\")"
   ]
  },
  {
   "cell_type": "markdown",
   "id": "69761bd4-f64b-4c60-bb5d-21bb120dfad8",
   "metadata": {
    "jp-MarkdownHeadingCollapsed": true
   },
   "source": [
    "### $H$ vs $\\epsilon$"
   ]
  },
  {
   "cell_type": "code",
   "execution_count": null,
   "id": "7f93ff5f-7cfe-4b91-8e4a-13e5e1eed44c",
   "metadata": {},
   "outputs": [],
   "source": [
    "plot(exp.(eos.tmd),exp.(eos.H),marker=:circle,xaxis=:log, yaxis=:log,labels=\"Enthalpy\",legend=:topleft);xlabel!(\"ϵ\");ylabel!(\"H\")"
   ]
  },
  {
   "cell_type": "code",
   "execution_count": null,
   "id": "d4cf99c9-7bf3-44c3-971f-f9e7e251aa68",
   "metadata": {},
   "outputs": [],
   "source": [
    "Er = exp.(range(eos.tmd[1],eos.tmd[end],length=500))\n",
    "Hr = map((E)->EnthalpyfromEnergyDensity(eos,E),Er)\n",
    "plot(Er,Hr,xaxis=:log, yaxis=:log,labels=\"Enthalpy\",legend=:topleft)\n",
    "plot!(exp.(eos.tmd),exp.(eos.H),xaxis=:log, yaxis=:log,labels=\"Enthalpy\",legend=:topleft);xlabel!(\"ϵ\");ylabel!(\"H\")"
   ]
  },
  {
   "cell_type": "code",
   "execution_count": null,
   "id": "d9b7263b-c4c2-4e17-bab0-ca26e89557b9",
   "metadata": {},
   "outputs": [],
   "source": [
    "Er = exp.(range(eos.tmd[350],eos.tmd[400],length=50))\n",
    "Hr = map((E)->EnthalpyfromEnergyDensity(eos,E),Er)\n",
    "plot(Er,Hr,marker=:circle, xaxis=:log, yaxis=:log,labels=\"Enthalpy\",legend=:topleft)\n",
    "plot!(exp.(eos.tmd[350:400]),exp.(eos.H[350:400]),xaxis=:log, yaxis=:log,labels=\"Enthalpy\",legend=:topleft);xlabel!(\"ϵ\");ylabel!(\"H\")"
   ]
  },
  {
   "cell_type": "markdown",
   "id": "4f5529c2-5ca8-4d06-bd64-fc0658db6f3d",
   "metadata": {
    "jp-MarkdownHeadingCollapsed": true
   },
   "source": [
    "# Test interpolations vs Enthalpy"
   ]
  },
  {
   "cell_type": "markdown",
   "id": "bb224122-604b-4f4e-bc72-4046dc80e0e8",
   "metadata": {
    "jp-MarkdownHeadingCollapsed": true
   },
   "source": [
    "### $H$ vs $P$"
   ]
  },
  {
   "cell_type": "code",
   "execution_count": null,
   "id": "58376819-c2da-4b77-9bfc-21fe1b76e464",
   "metadata": {},
   "outputs": [],
   "source": [
    "plot(exp.(eos.P),exp.(eos.H),marker=:circle,xaxis=:log, yaxis=:log,labels=\"Enthalpy\",legend=:topleft);xlabel!(\"P\");ylabel!(\"H\")"
   ]
  },
  {
   "cell_type": "code",
   "execution_count": null,
   "id": "076ee2a8-e247-4cf1-845d-954a58433652",
   "metadata": {},
   "outputs": [],
   "source": [
    "Hr = exp.(range(eos.H[1],eos.H[end],length=500))\n",
    "Pr = map((H)->PressurefromEnthalpy(eos,H),Hr)\n",
    "plot(Pr,Hr,xaxis=:log,yaxis=:log,labels=\"Enthalpy\",legend=:topleft)\n",
    "plot!(exp.(eos.P),exp.(eos.H),xaxis=:log, yaxis=:log,labels=\"Enthalpy\",legend=:topleft);xlabel!(\"P\");ylabel!(\"H\")"
   ]
  },
  {
   "cell_type": "code",
   "execution_count": null,
   "id": "1ebc376c-9174-4610-94b2-fadbac0bb411",
   "metadata": {},
   "outputs": [],
   "source": [
    "Hr = exp.(range(eos.H[350],eos.H[400],length=50))\n",
    "Pr = map((H)->PressurefromEnthalpy(eos,H),Hr)\n",
    "plot(Pr,Hr,marker=:circle, xaxis=:log,yaxis=:log,labels=\"Enthalpy\",legend=:topleft)\n",
    "plot!(exp.(eos.P[350:400]),exp.(eos.H[350:400]),xaxis=:log, yaxis=:log,labels=\"Enthalpy\",legend=:topleft);xlabel!(\"P\");ylabel!(\"H\")"
   ]
  },
  {
   "cell_type": "markdown",
   "id": "b6a8ff4f-8cec-4021-b805-906d6b113561",
   "metadata": {
    "jp-MarkdownHeadingCollapsed": true
   },
   "source": [
    "### $H$ vs $\\epsilon$"
   ]
  },
  {
   "cell_type": "code",
   "execution_count": null,
   "id": "f051710d-8c73-42bf-998f-a88ed9e06ec3",
   "metadata": {},
   "outputs": [],
   "source": [
    "plot(exp.(eos.tmd),exp.(eos.H),marker=:circle,xaxis=:log, yaxis=:log,labels=\"Enthalpy\",legend=:topleft);xlabel!(\"ϵ\");ylabel!(\"H\")"
   ]
  },
  {
   "cell_type": "code",
   "execution_count": null,
   "id": "f7273787-51b4-4e81-9e05-5a6e2b6ce708",
   "metadata": {},
   "outputs": [],
   "source": [
    "Hr = exp.(range(eos.H[1],eos.H[end],length=500))\n",
    "Er = map((H)->EnergyDensityfromEnthalpy(eos,H),Hr)\n",
    "plot(Er,Hr,xaxis=:log,yaxis=:log,labels=\"Enthalpy\",legend=:topleft)\n",
    "plot!(exp.(eos.tmd),exp.(eos.H),xaxis=:log, yaxis=:log,labels=\"Enthalpy\",legend=:topleft);xlabel!(\"ϵ\");ylabel!(\"H\")"
   ]
  },
  {
   "cell_type": "code",
   "execution_count": null,
   "id": "9a458aef-f8b3-4a29-970c-705db1001a72",
   "metadata": {},
   "outputs": [],
   "source": [
    "Hr = exp.(range(eos.H[350],eos.H[400],length=50))\n",
    "Er = map((H)->EnergyDensityfromEnthalpy(eos,H),Hr)\n",
    "plot(Er,Hr,marker=:circle, xaxis=:log,yaxis=:log,labels=\"Enthalpy\",legend=:topleft)\n",
    "plot!(exp.(eos.tmd[350:400]),exp.(eos.H[350:400]),xaxis=:log, yaxis=:log,labels=\"Enthalpy\",legend=:topleft);xlabel!(\"ϵ\");ylabel!(\"H\")"
   ]
  },
  {
   "cell_type": "markdown",
   "id": "14ba7c75-5591-4467-8b66-5d66e344bca9",
   "metadata": {
    "jp-MarkdownHeadingCollapsed": true
   },
   "source": [
    "### $H$ vs $\\rho$"
   ]
  },
  {
   "cell_type": "code",
   "execution_count": null,
   "id": "21783b2c-3d02-4f3c-9c3f-390a6273ef12",
   "metadata": {},
   "outputs": [],
   "source": [
    "plot(exp.(eos.bmd),exp.(eos.H),marker=:circle,xaxis=:log, yaxis=:log,labels=\"Enthalpy\",legend=:topleft);xlabel!(\"ρ\");ylabel!(\"H\")"
   ]
  },
  {
   "cell_type": "code",
   "execution_count": null,
   "id": "93da219d-d195-43a1-b066-5a4529707733",
   "metadata": {},
   "outputs": [],
   "source": [
    "Hr = exp.(range(eos.H[1],eos.H[end],length=500))\n",
    "BMDr = map((H)->BaryonMassDensityfromEnthalpy(eos,H),Hr)\n",
    "plot(BMDr,Hr,xaxis=:log,yaxis=:log,labels=\"Enthalpy\",legend=:topleft)\n",
    "plot!(exp.(eos.bmd),exp.(eos.H),xaxis=:log, yaxis=:log,labels=\"Enthalpy\",legend=:topleft);xlabel!(\"ρ\");ylabel!(\"H\")"
   ]
  },
  {
   "cell_type": "code",
   "execution_count": null,
   "id": "16b0936a-ecfe-477b-ab24-35bfc67d9123",
   "metadata": {},
   "outputs": [],
   "source": [
    "Hr = exp.(range(eos.H[350],eos.H[400],length=50))\n",
    "BMDr = map((H)->BaryonMassDensityfromEnthalpy(eos,H),Hr)\n",
    "plot(BMDr,Hr,marker=:circle, xaxis=:log,yaxis=:log,labels=\"Enthalpy\",legend=:topleft)\n",
    "plot!(exp.(eos.bmd[350:400]),exp.(eos.H[350:400]),xaxis=:log, yaxis=:log,labels=\"Enthalpy\",legend=:topleft);xlabel!(\"ρ\");ylabel!(\"H\")"
   ]
  },
  {
   "cell_type": "markdown",
   "id": "c4f21caa-6426-44ed-91e5-d46d6042dda4",
   "metadata": {
    "jp-MarkdownHeadingCollapsed": true
   },
   "source": [
    "# Miscelaneous Tests"
   ]
  },
  {
   "cell_type": "code",
   "execution_count": null,
   "id": "2f916344-318d-4820-949f-b625fb0ddbec",
   "metadata": {},
   "outputs": [],
   "source": [
    "intP = exp.(range(eos.P[1],eos.P[end],length=1000000));\n",
    "intE = exp.(range(eos.tmd[1],eos.tmd[end],length=1000000));\n",
    "intH = exp.(range(eos.H[1],eos.H[end],length=1000000));\n",
    "@time begin\n",
    "    E = map((P)->EnergyDensityfromPressure(eos,P),intP)\n",
    "    BMD = map((P)->BaryonMassDensityfromPressure(eos,P),intP)\n",
    "    H = map((P)->EnthalpyfromPressure(eos,P),intP)\n",
    "    P = map((E)->PressurefromEnergyDensity(eos,E),intE)\n",
    "    BMD = map((E)->BaryonMassDensityfromEnergyDensity(eos,E),intE)\n",
    "    H = map((E)->EnthalpyfromEnergyDensity(eos,E),intE)\n",
    "    P = map((H)->PressurefromEnthalpy(eos,H),intH)\n",
    "    E = map((H)->EnergyDensityfromEnthalpy(eos,H),intH)\n",
    "    BMD = map((H)->BaryonMassDensityfromEnthalpy(eos,H),intH)\n",
    "end;\n",
    "\n",
    "using Random\n",
    "intP = shuffle(intP);\n",
    "intE = shuffle(intE);\n",
    "intH = shuffle(intH);\n",
    "@time begin\n",
    "    E = map((P)->EnergyDensityfromPressure(eos,P),intP)\n",
    "    BMD = map((P)->BaryonMassDensityfromPressure(eos,P),intP)\n",
    "    H = map((P)->EnthalpyfromPressure(eos,P),intP)\n",
    "    P = map((E)->PressurefromEnergyDensity(eos,E),intE)\n",
    "    BMD = map((E)->BaryonMassDensityfromEnergyDensity(eos,E),intE)\n",
    "    H = map((E)->EnthalpyfromEnergyDensity(eos,E),intE)\n",
    "    P = map((H)->PressurefromEnthalpy(eos,H),intH)\n",
    "    E = map((H)->EnergyDensityfromEnthalpy(eos,H),intH)\n",
    "    BMD = map((H)->BaryonMassDensityfromEnthalpy(eos,H),intH)\n",
    "end;"
   ]
  }
 ],
 "metadata": {
  "kernelspec": {
   "display_name": "Julia 1.11.2",
   "language": "julia",
   "name": "julia-1.11"
  },
  "language_info": {
   "file_extension": ".jl",
   "mimetype": "application/julia",
   "name": "julia",
   "version": "1.11.2"
  }
 },
 "nbformat": 4,
 "nbformat_minor": 5
}
